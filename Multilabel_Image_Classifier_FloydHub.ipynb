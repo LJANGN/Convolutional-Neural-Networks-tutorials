{
 "cells": [
  {
   "cell_type": "markdown",
   "metadata": {
    "deletable": true,
    "editable": true
   },
   "source": [
    "## Multilabel Image Classifier:\n",
    "### Training a convolutional neural network - ConvNet, CNN - from scratch\n",
    "Having to train your own image-classification model instead of using a pretrained one is a good skill to have. You simply do your best with what little data you have available. Here I demonstrate an example with the CIFAR-10 dataset, already available in Keras. The CIFAR-10 dataset (Canadian Institute For Advanced Research) is a collection of images that are commonly used to train machine learning and computer vision algorithms. It is one of the most widely used datasets for machine learning research.The CIFAR-10 dataset contains 60,000 32x32 color images in 10 different classes. The 10 different classes represent airplanes, cars, birds, cats, deer, dogs, frogs, horses, ships, and trucks. There are 6,000 images of each class. In Keras it's already divided into a train and test set with 50.000 and 10.000 images in each, allowing you to go straight into building your model! <br><br>\n",
    "Here a sample of what the data looks like:"
   ]
  },
  {
   "cell_type": "markdown",
   "metadata": {},
   "source": [
    "![alt text](Cifar10sample.jpg \"data sample\")"
   ]
  },
  {
   "cell_type": "markdown",
   "metadata": {},
   "source": [
    "Downloading the necessary libraries."
   ]
  },
  {
   "cell_type": "code",
   "execution_count": 2,
   "metadata": {
    "collapsed": false,
    "deletable": true,
    "editable": true
   },
   "outputs": [
    {
     "name": "stderr",
     "output_type": "stream",
     "text": [
      "Using TensorFlow backend.\n"
     ]
    }
   ],
   "source": [
    "import numpy as np \n",
    "import pandas as pd\n",
    "import keras\n",
    "\n",
    "from keras.utils import to_categorical\n",
    "from keras.models import Sequential\n",
    "from keras.layers import Dense,Conv2D,Flatten,Dropout,MaxPooling2D,Activation\n",
    "import matplotlib.pyplot as plt"
   ]
  },
  {
   "cell_type": "markdown",
   "metadata": {},
   "source": [
    "And the data itself:"
   ]
  },
  {
   "cell_type": "code",
   "execution_count": 3,
   "metadata": {
    "collapsed": false,
    "deletable": true,
    "editable": true
   },
   "outputs": [
    {
     "name": "stdout",
     "output_type": "stream",
     "text": [
      "Downloading data from https://www.cs.toronto.edu/~kriz/cifar-10-python.tar.gz\n",
      "170500096/170498071 [==============================] - 69s 0us/step\n"
     ]
    }
   ],
   "source": [
    "from keras.datasets import cifar10\n",
    "\n",
    "(x_train, y_train), (x_test, y_test) = cifar10.load_data()"
   ]
  },
  {
   "cell_type": "markdown",
   "metadata": {},
   "source": [
    "### Data preprocessing\n",
    "Data, currently as JPEG-files, must be formatted into appropriately preprocessed floating-point tensors before being fed into te network above. Fortunately with CIFAR-10 Keras has utilities to make these steps more automated."
   ]
  },
  {
   "cell_type": "code",
   "execution_count": 4,
   "metadata": {
    "collapsed": true,
    "deletable": true,
    "editable": true
   },
   "outputs": [],
   "source": [
    "#Normalizing the input data\n",
    "x_train = x_train/255.0\n",
    "x_test = x_test/255.0"
   ]
  },
  {
   "cell_type": "code",
   "execution_count": 5,
   "metadata": {
    "collapsed": true,
    "deletable": true,
    "editable": true
   },
   "outputs": [],
   "source": [
    "#Creating the y labels\n",
    "y_train = to_categorical(y_train,10)\n",
    "y_test = to_categorical(y_test,10)"
   ]
  },
  {
   "cell_type": "markdown",
   "metadata": {
    "deletable": true,
    "editable": true
   },
   "source": [
    "### Building the network\n",
    "Because this is a multilabel-classification problem with 10 classes, the network needs to end with a Dense layer of equal size, i.e. 10, and a softmax activation. "
   ]
  },
  {
   "cell_type": "code",
   "execution_count": 6,
   "metadata": {
    "collapsed": true,
    "deletable": true,
    "editable": true
   },
   "outputs": [],
   "source": [
    "model = Sequential()\n",
    "model.add(Conv2D(32, (3, 3), padding='same',\n",
    "                 input_shape=x_train.shape[1:]))\n",
    "model.add(Activation('relu'))\n",
    "model.add(Conv2D(32, (3, 3)))\n",
    "model.add(Activation('relu'))\n",
    "model.add(MaxPooling2D(pool_size=(2, 2)))\n",
    "model.add(Dropout(0.25))\n",
    "\n",
    "model.add(Conv2D(64, (3, 3), padding='same'))\n",
    "model.add(Activation('relu'))\n",
    "model.add(Conv2D(64, (3, 3)))\n",
    "model.add(Activation('relu'))\n",
    "model.add(MaxPooling2D(pool_size=(2, 2)))\n",
    "model.add(Dropout(0.25))\n",
    "\n",
    "model.add(Flatten())\n",
    "model.add(Dense(512))\n",
    "model.add(Activation('relu'))\n",
    "model.add(Dropout(0.5))\n",
    "model.add(Dense(10))\n",
    "model.add(Activation('softmax'))\n",
    "\n",
    "# initiate RMSprop optimizer\n",
    "opt = keras.optimizers.rmsprop(lr=0.0001, decay=1e-6)\n",
    "\n",
    "# Let's train the model using RMSprop\n",
    "model.compile(loss='categorical_crossentropy',\n",
    "              optimizer=opt,\n",
    "              metrics=['accuracy'])"
   ]
  },
  {
   "cell_type": "markdown",
   "metadata": {
    "deletable": true,
    "editable": true
   },
   "source": [
    "Let's look how the dimensions of the feature maps change with every successive layer:"
   ]
  },
  {
   "cell_type": "code",
   "execution_count": 7,
   "metadata": {
    "collapsed": false,
    "deletable": true,
    "editable": true,
    "scrolled": false
   },
   "outputs": [
    {
     "name": "stdout",
     "output_type": "stream",
     "text": [
      "_________________________________________________________________\n",
      "Layer (type)                 Output Shape              Param #   \n",
      "=================================================================\n",
      "conv2d_1 (Conv2D)            (None, 32, 32, 32)        896       \n",
      "_________________________________________________________________\n",
      "activation_1 (Activation)    (None, 32, 32, 32)        0         \n",
      "_________________________________________________________________\n",
      "conv2d_2 (Conv2D)            (None, 30, 30, 32)        9248      \n",
      "_________________________________________________________________\n",
      "activation_2 (Activation)    (None, 30, 30, 32)        0         \n",
      "_________________________________________________________________\n",
      "max_pooling2d_1 (MaxPooling2 (None, 15, 15, 32)        0         \n",
      "_________________________________________________________________\n",
      "dropout_1 (Dropout)          (None, 15, 15, 32)        0         \n",
      "_________________________________________________________________\n",
      "conv2d_3 (Conv2D)            (None, 15, 15, 64)        18496     \n",
      "_________________________________________________________________\n",
      "activation_3 (Activation)    (None, 15, 15, 64)        0         \n",
      "_________________________________________________________________\n",
      "conv2d_4 (Conv2D)            (None, 13, 13, 64)        36928     \n",
      "_________________________________________________________________\n",
      "activation_4 (Activation)    (None, 13, 13, 64)        0         \n",
      "_________________________________________________________________\n",
      "max_pooling2d_2 (MaxPooling2 (None, 6, 6, 64)          0         \n",
      "_________________________________________________________________\n",
      "dropout_2 (Dropout)          (None, 6, 6, 64)          0         \n",
      "_________________________________________________________________\n",
      "flatten_1 (Flatten)          (None, 2304)              0         \n",
      "_________________________________________________________________\n",
      "dense_1 (Dense)              (None, 512)               1180160   \n",
      "_________________________________________________________________\n",
      "activation_5 (Activation)    (None, 512)               0         \n",
      "_________________________________________________________________\n",
      "dropout_3 (Dropout)          (None, 512)               0         \n",
      "_________________________________________________________________\n",
      "dense_2 (Dense)              (None, 10)                5130      \n",
      "_________________________________________________________________\n",
      "activation_6 (Activation)    (None, 10)                0         \n",
      "=================================================================\n",
      "Total params: 1,250,858\n",
      "Trainable params: 1,250,858\n",
      "Non-trainable params: 0\n",
      "_________________________________________________________________\n"
     ]
    }
   ],
   "source": [
    "model.summary()"
   ]
  },
  {
   "cell_type": "markdown",
   "metadata": {
    "deletable": true,
    "editable": true
   },
   "source": [
    "For the compilation step the RMSprop optimizer is used, to speed up the learning. It divides the learning rate for a weight\t by a running average of the magnitudes of recent gradients for that weight. In simple terms, it sort of smoothens out the gradient descent (green line in the picture towards the goal compared to not using an optimizer, blue line). Other available optimizers include e.g. Adam, and AdaGrad."
   ]
  },
  {
   "cell_type": "markdown",
   "metadata": {
    "deletable": true,
    "editable": true
   },
   "source": [
    "![alt text](RMSprop.jpg \"Title\")"
   ]
  },
  {
   "cell_type": "code",
   "execution_count": 7,
   "metadata": {
    "collapsed": false,
    "deletable": true,
    "editable": true
   },
   "outputs": [
    {
     "name": "stdout",
     "output_type": "stream",
     "text": [
      "Train on 50000 samples, validate on 10000 samples\n",
      "Epoch 1/50\n",
      "50000/50000 [==============================] - 52s 1ms/step - loss: 1.8104 - acc: 0.3391 - val_loss: 1.6231 - val_acc: 0.4084\n",
      "Epoch 2/50\n",
      "50000/50000 [==============================] - 19s 374us/step - loss: 1.4959 - acc: 0.4571 - val_loss: 1.4589 - val_acc: 0.4680\n",
      "Epoch 3/50\n",
      "50000/50000 [==============================] - 19s 371us/step - loss: 1.3573 - acc: 0.5135 - val_loss: 1.2272 - val_acc: 0.5645\n",
      "Epoch 4/50\n",
      "50000/50000 [==============================] - 19s 373us/step - loss: 1.2461 - acc: 0.5601 - val_loss: 1.1679 - val_acc: 0.5843\n",
      "Epoch 5/50\n",
      "50000/50000 [==============================] - 19s 373us/step - loss: 1.1641 - acc: 0.5918 - val_loss: 1.0566 - val_acc: 0.6295\n",
      "Epoch 6/50\n",
      "50000/50000 [==============================] - 19s 372us/step - loss: 1.0973 - acc: 0.6150 - val_loss: 1.0288 - val_acc: 0.6343\n",
      "Epoch 7/50\n",
      "50000/50000 [==============================] - 19s 373us/step - loss: 1.0421 - acc: 0.6339 - val_loss: 0.9612 - val_acc: 0.6663\n",
      "Epoch 8/50\n",
      "50000/50000 [==============================] - 19s 373us/step - loss: 0.9970 - acc: 0.6486 - val_loss: 0.9854 - val_acc: 0.6611\n",
      "Epoch 9/50\n",
      "50000/50000 [==============================] - 19s 372us/step - loss: 0.9593 - acc: 0.6636 - val_loss: 0.8929 - val_acc: 0.6930\n",
      "Epoch 10/50\n",
      "50000/50000 [==============================] - 19s 373us/step - loss: 0.9219 - acc: 0.6783 - val_loss: 0.8774 - val_acc: 0.6964\n",
      "Epoch 11/50\n",
      "50000/50000 [==============================] - 19s 374us/step - loss: 0.8911 - acc: 0.6902 - val_loss: 0.8577 - val_acc: 0.7048\n",
      "Epoch 12/50\n",
      "50000/50000 [==============================] - 19s 373us/step - loss: 0.8668 - acc: 0.6989 - val_loss: 0.8284 - val_acc: 0.7085\n",
      "Epoch 13/50\n",
      "50000/50000 [==============================] - 19s 373us/step - loss: 0.8415 - acc: 0.7067 - val_loss: 0.8206 - val_acc: 0.7172\n",
      "Epoch 14/50\n",
      "50000/50000 [==============================] - 19s 373us/step - loss: 0.8222 - acc: 0.7149 - val_loss: 0.8042 - val_acc: 0.7216\n",
      "Epoch 15/50\n",
      "50000/50000 [==============================] - 19s 373us/step - loss: 0.8021 - acc: 0.7235 - val_loss: 0.7722 - val_acc: 0.7336\n",
      "Epoch 16/50\n",
      "50000/50000 [==============================] - 19s 370us/step - loss: 0.7900 - acc: 0.7261 - val_loss: 0.7792 - val_acc: 0.7320\n",
      "Epoch 17/50\n",
      "50000/50000 [==============================] - 18s 369us/step - loss: 0.7731 - acc: 0.7320 - val_loss: 0.7552 - val_acc: 0.7434\n",
      "Epoch 18/50\n",
      "50000/50000 [==============================] - 19s 372us/step - loss: 0.7602 - acc: 0.7357 - val_loss: 0.7772 - val_acc: 0.7326\n",
      "Epoch 19/50\n",
      "50000/50000 [==============================] - 19s 371us/step - loss: 0.7503 - acc: 0.7425 - val_loss: 0.7500 - val_acc: 0.7397\n",
      "Epoch 20/50\n",
      "50000/50000 [==============================] - 19s 372us/step - loss: 0.7441 - acc: 0.7426 - val_loss: 0.7399 - val_acc: 0.7452\n",
      "Epoch 21/50\n",
      "50000/50000 [==============================] - 19s 371us/step - loss: 0.7330 - acc: 0.7465 - val_loss: 0.7126 - val_acc: 0.7545\n",
      "Epoch 22/50\n",
      "50000/50000 [==============================] - 19s 371us/step - loss: 0.7285 - acc: 0.7485 - val_loss: 0.7099 - val_acc: 0.7546\n",
      "Epoch 23/50\n",
      "50000/50000 [==============================] - 19s 371us/step - loss: 0.7163 - acc: 0.7559 - val_loss: 0.7008 - val_acc: 0.7570\n",
      "Epoch 24/50\n",
      "50000/50000 [==============================] - 19s 371us/step - loss: 0.7148 - acc: 0.7561 - val_loss: 0.6922 - val_acc: 0.7591\n",
      "Epoch 25/50\n",
      "50000/50000 [==============================] - 18s 370us/step - loss: 0.7089 - acc: 0.7576 - val_loss: 0.7309 - val_acc: 0.7531\n",
      "Epoch 26/50\n",
      "50000/50000 [==============================] - 19s 370us/step - loss: 0.7020 - acc: 0.7590 - val_loss: 0.7756 - val_acc: 0.7383\n",
      "Epoch 27/50\n",
      "50000/50000 [==============================] - 19s 370us/step - loss: 0.7000 - acc: 0.7625 - val_loss: 0.6866 - val_acc: 0.7635\n",
      "Epoch 28/50\n",
      "50000/50000 [==============================] - 19s 371us/step - loss: 0.6913 - acc: 0.7651 - val_loss: 0.7007 - val_acc: 0.7596\n",
      "Epoch 29/50\n",
      "50000/50000 [==============================] - 18s 369us/step - loss: 0.6875 - acc: 0.7671 - val_loss: 0.7066 - val_acc: 0.7598\n",
      "Epoch 30/50\n",
      "50000/50000 [==============================] - 19s 370us/step - loss: 0.6841 - acc: 0.7680 - val_loss: 0.6978 - val_acc: 0.7625\n",
      "Epoch 31/50\n",
      "50000/50000 [==============================] - 18s 369us/step - loss: 0.6772 - acc: 0.7690 - val_loss: 0.7124 - val_acc: 0.7577\n",
      "Epoch 33/50\n",
      "50000/50000 [==============================] - 19s 370us/step - loss: 0.6714 - acc: 0.7723 - val_loss: 0.6786 - val_acc: 0.7680\n",
      "Epoch 34/50\n",
      "50000/50000 [==============================] - 19s 370us/step - loss: 0.6704 - acc: 0.7728 - val_loss: 0.6532 - val_acc: 0.7736\n",
      "Epoch 35/50\n",
      "50000/50000 [==============================] - 18s 370us/step - loss: 0.6667 - acc: 0.7749 - val_loss: 0.7090 - val_acc: 0.7609\n",
      "Epoch 36/50\n",
      "50000/50000 [==============================] - 19s 370us/step - loss: 0.6669 - acc: 0.7754 - val_loss: 0.6943 - val_acc: 0.7683\n",
      "Epoch 37/50\n",
      "50000/50000 [==============================] - 19s 370us/step - loss: 0.6642 - acc: 0.7761 - val_loss: 0.6670 - val_acc: 0.7776\n",
      "Epoch 38/50\n",
      "50000/50000 [==============================] - 19s 370us/step - loss: 0.6597 - acc: 0.7789 - val_loss: 0.6679 - val_acc: 0.7682\n",
      "Epoch 39/50\n",
      "50000/50000 [==============================] - 19s 370us/step - loss: 0.6590 - acc: 0.7787 - val_loss: 0.6791 - val_acc: 0.7704\n",
      "Epoch 40/50\n",
      "50000/50000 [==============================] - 18s 369us/step - loss: 0.6515 - acc: 0.7813 - val_loss: 0.6688 - val_acc: 0.7751\n",
      "Epoch 41/50\n",
      "50000/50000 [==============================] - 19s 371us/step - loss: 0.6476 - acc: 0.7828 - val_loss: 0.6624 - val_acc: 0.7764\n",
      "Epoch 42/50\n",
      "50000/50000 [==============================] - 18s 370us/step - loss: 0.6523 - acc: 0.7817 - val_loss: 0.6518 - val_acc: 0.7773\n",
      "Epoch 43/50\n",
      "50000/50000 [==============================] - 18s 369us/step - loss: 0.6454 - acc: 0.7847 - val_loss: 0.6589 - val_acc: 0.7778\n",
      "Epoch 44/50\n",
      "50000/50000 [==============================] - 18s 368us/step - loss: 0.6406 - acc: 0.7830 - val_loss: 0.6425 - val_acc: 0.7860\n",
      "Epoch 45/50\n",
      "50000/50000 [==============================] - 18s 369us/step - loss: 0.6442 - acc: 0.7855 - val_loss: 0.6846 - val_acc: 0.7705\n",
      "Epoch 46/50\n",
      "50000/50000 [==============================] - 18s 369us/step - loss: 0.6382 - acc: 0.7866 - val_loss: 0.6390 - val_acc: 0.7808\n",
      "Epoch 47/50\n",
      "50000/50000 [==============================] - 18s 368us/step - loss: 0.6367 - acc: 0.7864 - val_loss: 0.6784 - val_acc: 0.7699\n",
      "Epoch 48/50\n",
      "50000/50000 [==============================] - 18s 369us/step - loss: 0.6357 - acc: 0.7884 - val_loss: 0.6560 - val_acc: 0.7789\n",
      "Epoch 49/50\n",
      "50000/50000 [==============================] - 18s 370us/step - loss: 0.6350 - acc: 0.7887 - val_loss: 0.7071 - val_acc: 0.7644\n",
      "Epoch 50/50\n",
      "50000/50000 [==============================] - 18s 369us/step - loss: 0.6319 - acc: 0.7880 - val_loss: 0.6351 - val_acc: 0.7854\n"
     ]
    }
   ],
   "source": [
    "history = model.fit(x_train, y_train,batch_size=32 ,epochs=50, validation_data=(x_test, y_test),shuffle=True)"
   ]
  },
  {
   "cell_type": "markdown",
   "metadata": {},
   "source": [
    "Next, plotting the loss and accuracy:"
   ]
  },
  {
   "cell_type": "code",
   "execution_count": 8,
   "metadata": {
    "collapsed": false,
    "deletable": true,
    "editable": true
   },
   "outputs": [
    {
     "data": {
      "image/png": "[encoded data removed]",
      "text/plain": [
       "<Figure size 432x288 with 1 Axes>"
      ]
     },
     "metadata": {},
     "output_type": "display_data"
    },
    {
     "data": {
      "image/png": "[encoded data removed]",
      "text/plain": [
       "<Figure size 432x288 with 1 Axes>"
      ]
     },
     "metadata": {},
     "output_type": "display_data"
    }
   ],
   "source": [
    "import matplotlib.pyplot as plt\n",
    "\n",
    "acc = history.history[\"acc\"]\n",
    "val_acc = history.history[\"val_acc\"]\n",
    "loss = history.history[\"loss\"]\n",
    "val_loss = history.history[\"val_loss\"]\n",
    "\n",
    "epochs = range(1, len(acc) + 1 )\n",
    "\n",
    "plt.plot(epochs, acc, \"bo\", label=\"Training accuracy\")\n",
    "plt.plot(epochs, val_acc, \"b\", label=\"Validation accuracy\")\n",
    "plt.title(\"Training and validation accuracy\")\n",
    "plt.legend()\n",
    "\n",
    "plt.figure()\n",
    "\n",
    "plt.plot(epochs, loss, \"bo\", label=\"Training loss\")\n",
    "plt.plot(epochs, val_loss, \"b\", label=\"Validation loss\")\n",
    "plt.title(\"Training and validation loss\")\n",
    "plt.legend()\n",
    "\n",
    "plt.show()"
   ]
  },
  {
   "cell_type": "markdown",
   "metadata": {
    "collapsed": true,
    "deletable": true,
    "editable": true
   },
   "source": [
    "The outcome turns out pretty good. No overfitting; the gap between traing and validation data diminishes clearly. The overall accuracy reaches closer to 80%; the model recognizes the correct image class on average in 4 out of 5 examples. "
   ]
  },
  {
   "cell_type": "code",
   "execution_count": null,
   "metadata": {
    "collapsed": true
   },
   "outputs": [],
   "source": []
  }
 ],
 "metadata": {
  "kernelspec": {
   "display_name": "Python 3",
   "language": "python",
   "name": "python3"
  },
  "language_info": {
   "codemirror_mode": {
    "name": "ipython",
    "version": 3
   },
   "file_extension": ".py",
   "mimetype": "text/x-python",
   "name": "python",
   "nbconvert_exporter": "python",
   "pygments_lexer": "ipython3",
   "version": "3.5.2"
  }
 },
 "nbformat": 4,
 "nbformat_minor": 2
}
